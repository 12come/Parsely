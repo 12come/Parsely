{
  "nbformat": 4,
  "nbformat_minor": 0,
  "metadata": {
    "colab": {
      "provenance": []
    },
    "kernelspec": {
      "name": "python3",
      "display_name": "Python 3"
    },
    "language_info": {
      "name": "python"
    }
  },
  "cells": [
    {
      "cell_type": "code",
      "execution_count": null,
      "metadata": {
        "id": "ZQORe824eae3"
      },
      "outputs": [],
      "source": [
        "import os\n",
        "import openai\n",
        "\n",
        "openai.api_key = 'YOUR_API_KEY' #Openai API 사이트에 접속하셔서 자신의 키를 입력하셔야합니다. KEY는 한번 열람 후 다시 확인하실 수 없으니 꼭 다른 곳에 복사해놓으시길 바랍니다.\n",
        "\n",
        "def generate_text(prompt, max_tokens):\n",
        "    response = openai.Completion.create(\n",
        "        engine=\"text-davinci-003\",\n",
        "        prompt=prompt,\n",
        "        max_tokens=max_tokens,\n",
        "        temperature=0.7,\n",
        "        top_p=1.0,\n",
        "        frequency_penalty=0.0,\n",
        "        presence_penalty=0.0\n",
        "    )\n",
        "    \n",
        "    generated_text = response.choices[0].text.strip()\n",
        "    return generated_text\n",
        "\n",
        "# 첫 번째 프롬프트\n",
        "prompt1 = \"무조건 20문장 이내의 영어소설을 쓰고싶어. 지금부터 너가 중학생 역할을 맡아줘. 알았으면 알겠다고해. 그러면 내가 원하는 주제를 던져줄게\"\n",
        "\n",
        "# 첫 번째 프롬프트 결과는 출력하지 않음(역할을 부여하기 위해서 사용되기 때문입니다.)\n",
        "_ = generate_text(prompt1,1)\n",
        "\n",
        "# 두 번째 프롬프트\n",
        "prompt2 = \"무조건 20문장 이내의 짧은 영어 소설을 써줘. 주제를 던져줄게.\\n explore(탐험하다) \\n daily(매일의) \\n joke(농담) \\n simply(단순히) \\n balloon(풍선) 위 단어들을 모두 이용해서 아래의 조건들을 모두 만족시켜줘.\\n 1. 문장들을 토큰화했을 때 20문장 이내의 아주아주 짧은 소설을 만들어줘. \\n 2. 소리 내서 읽었을 경우 1분 이내로 표현이 되어야해. \\n 3. 숫자들도 모두 영어로 표현해줘.\\n 4. 사용한 단어에 큰 따옴표를 사용해줘. \\n 5. 이미지로 표현 가능한 문장들이였으면 좋겠어. \\n 6. 너의 말은 필요없고 소설만 보여줘.\\n 7. 제시한 단어 이외에는 큰따옴표를 사용하지마.\"\n",
        "\n",
        "# 두 번째 프롬프트에 대한 20문장의 결과 출력\n",
        "result2 = generate_text(prompt2, 500)\n",
        "sentences2 = result2.split(\".\")\n",
        "sentences2 = [sentence.strip() for sentence in sentences2 if sentence.strip()]\n",
        "\n",
        "# 결과를 파일에 저장\n",
        "with open(\"Script.txt\", \"w\") as file:\n",
        "    file.write(result2)\n",
        "\n",
        "print(\"두 번째 프롬프트의 출력이 파일에 저장되었습니다.\")\n",
        "\n",
        "# 세 번째 프롬프트\n",
        "prompt3_sentence = \"나는 한 문장 마다 생성 이미지 ai를 통해 이미지를 만들거야. 너가 생성한 문장을 모두 사용해서 한 문장씩 밑에 두개의 직관적인 이미지 표현 영어를 써줘. \\n 1. 너의 말은 필요없고 답변만 써줘. \\n 2. 너가 말했던 소설 밑에 시각적 표현이 가능한 영어를 써줘. \\n 3. 너가 생성한 문장을 모두 써야해 \\n 예를 들어서 Inside the house, a wooden chair stood proudly by the window, basking in the warm sunlight. \\n 이런 문장을 너가 생성해줬다면, 생성한 그 문장 바로 밑에 \\n → A cozy wooden chair, bathed in warm sunlight, stood proudly by the window. \\n →The sunlit room boasted a majestic wooden chair, exuding an air of elegance near the window. \\n 화살표하고 이미지 표현의 문장을 한문장씩마다 2개씩 영어텍스트 표현을 써줘\"\n",
        "\n",
        "# 세 번째 프롬프트에 대한 결과 출력\n",
        "output3 = \"\"\n",
        "for sentence in sentences2:\n",
        "    prompt3 = f\"{prompt3_sentence}\\n{sentence}\\n\"\n",
        "    result3 = generate_text(prompt3, 500)\n",
        "    sentences3 = result3.split(\".\\n\")\n",
        "    for sentence3 in sentences3:\n",
        "        if \"→\" in sentence3:\n",
        "            output3 += sentence3.strip() + \".\\n\"\n",
        "    output3 += \"\\n\"\n",
        "\n",
        "# 결과를 파일에 저장\n",
        "with open(\"ImagePrompt.txt\", \"w\") as file:\n",
        "    file.write(output3)\n",
        "\n",
        "print(\"세 번째 프롬프트의 출력이 파일에 저장되었습니다.\")"
      ]
    }
  ]
}